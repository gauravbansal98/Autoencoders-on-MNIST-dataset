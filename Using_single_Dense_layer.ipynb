{
  "nbformat": 4,
  "nbformat_minor": 0,
  "metadata": {
    "colab": {
      "name": "Using single Dense layer.ipynb",
      "version": "0.3.2",
      "provenance": [],
      "include_colab_link": true
    },
    "kernelspec": {
      "name": "python3",
      "display_name": "Python 3"
    },
    "accelerator": "GPU"
  },
  "cells": [
    {
      "cell_type": "markdown",
      "metadata": {
        "id": "view-in-github",
        "colab_type": "text"
      },
      "source": [
        "[View in Colaboratory](https://colab.research.google.com/github/gauravbansal98/Autoencoders-on-MNIST-dataset/blob/master/Using_single_Dense_layer.ipynb)"
      ]
    },
    {
      "metadata": {
        "id": "1oaeaaM4RMbs",
        "colab_type": "code",
        "colab": {
          "base_uri": "https://localhost:8080/",
          "height": 103
        },
        "outputId": "04f17300-0e87-49d1-ee86-1d0ee84c7766"
      },
      "cell_type": "code",
      "source": [
        "!apt-get install -y -qq software-properties-common python-software-properties module-init-tools\n",
        "!add-apt-repository -y ppa:alessandro-strada/ppa 2>&1 > /dev/null\n",
        "!apt-get update -qq 2>&1 > /dev/null\n",
        "!apt-get -y install -qq google-drive-ocamlfuse fuse\n",
        "from google.colab import auth\n",
        "auth.authenticate_user()\n",
        "from oauth2client.client import GoogleCredentials\n",
        "creds = GoogleCredentials.get_application_default()\n",
        "import getpass\n",
        "!google-drive-ocamlfuse -headless -id={creds.client_id} -secret={creds.client_secret} < /dev/null 2>&1 | grep URL\n",
        "vcode = getpass.getpass()\n",
        "!echo {vcode} | google-drive-ocamlfuse -headless -id={creds.client_id} -secret={creds.client_secret}"
      ],
      "execution_count": 1,
      "outputs": [
        {
          "output_type": "stream",
          "text": [
            "Please, open the following URL in a web browser: https://accounts.google.com/o/oauth2/auth?client_id=32555940559.apps.googleusercontent.com&redirect_uri=urn%3Aietf%3Awg%3Aoauth%3A2.0%3Aoob&scope=https%3A%2F%2Fwww.googleapis.com%2Fauth%2Fdrive&response_type=code&access_type=offline&approval_prompt=force\r\n",
            "··········\n",
            "Please, open the following URL in a web browser: https://accounts.google.com/o/oauth2/auth?client_id=32555940559.apps.googleusercontent.com&redirect_uri=urn%3Aietf%3Awg%3Aoauth%3A2.0%3Aoob&scope=https%3A%2F%2Fwww.googleapis.com%2Fauth%2Fdrive&response_type=code&access_type=offline&approval_prompt=force\n",
            "Please enter the verification code: Access token retrieved correctly.\n"
          ],
          "name": "stdout"
        }
      ]
    },
    {
      "metadata": {
        "id": "3ii9yJE1RQSC",
        "colab_type": "code",
        "colab": {
          "base_uri": "https://localhost:8080/",
          "height": 50
        },
        "outputId": "4741631e-b383-4056-b07b-25f3fad49ecc"
      },
      "cell_type": "code",
      "source": [
        "!mkdir -p drive\n",
        "!google-drive-ocamlfuse drive"
      ],
      "execution_count": 1,
      "outputs": [
        {
          "output_type": "stream",
          "text": [
            "fuse: mountpoint is not empty\r\n",
            "fuse: if you are sure this is safe, use the 'nonempty' mount option\r\n"
          ],
          "name": "stdout"
        }
      ]
    },
    {
      "metadata": {
        "id": "qHC_cDknRST7",
        "colab_type": "code",
        "colab": {}
      },
      "cell_type": "code",
      "source": [
        "import os\n",
        "import tensorflow as tf"
      ],
      "execution_count": 0,
      "outputs": []
    },
    {
      "metadata": {
        "id": "TYM-XVPbRq3m",
        "colab_type": "code",
        "colab": {
          "base_uri": "https://localhost:8080/",
          "height": 404
        },
        "outputId": "96bab617-aad5-40e9-d47d-569784d02ef3"
      },
      "cell_type": "code",
      "source": [
        "from tensorflow.examples.tutorials.mnist import input_data\n",
        "mnist = input_data.read_data_sets(\"drive/Autoencoders on MNIST dataset\", one_hot = True)"
      ],
      "execution_count": 3,
      "outputs": [
        {
          "output_type": "stream",
          "text": [
            "WARNING:tensorflow:From <ipython-input-3-8d5faa1dab77>:2: read_data_sets (from tensorflow.contrib.learn.python.learn.datasets.mnist) is deprecated and will be removed in a future version.\n",
            "Instructions for updating:\n",
            "Please use alternatives such as official/mnist/dataset.py from tensorflow/models.\n",
            "WARNING:tensorflow:From /usr/local/lib/python3.6/dist-packages/tensorflow/contrib/learn/python/learn/datasets/mnist.py:260: maybe_download (from tensorflow.contrib.learn.python.learn.datasets.base) is deprecated and will be removed in a future version.\n",
            "Instructions for updating:\n",
            "Please write your own downloading logic.\n",
            "WARNING:tensorflow:From /usr/local/lib/python3.6/dist-packages/tensorflow/contrib/learn/python/learn/datasets/mnist.py:262: extract_images (from tensorflow.contrib.learn.python.learn.datasets.mnist) is deprecated and will be removed in a future version.\n",
            "Instructions for updating:\n",
            "Please use tf.data to implement this functionality.\n",
            "Extracting drive/Autoencoders on MNIST dataset/train-images-idx3-ubyte.gz\n",
            "WARNING:tensorflow:From /usr/local/lib/python3.6/dist-packages/tensorflow/contrib/learn/python/learn/datasets/mnist.py:267: extract_labels (from tensorflow.contrib.learn.python.learn.datasets.mnist) is deprecated and will be removed in a future version.\n",
            "Instructions for updating:\n",
            "Please use tf.data to implement this functionality.\n",
            "Extracting drive/Autoencoders on MNIST dataset/train-labels-idx1-ubyte.gz\n",
            "WARNING:tensorflow:From /usr/local/lib/python3.6/dist-packages/tensorflow/contrib/learn/python/learn/datasets/mnist.py:110: dense_to_one_hot (from tensorflow.contrib.learn.python.learn.datasets.mnist) is deprecated and will be removed in a future version.\n",
            "Instructions for updating:\n",
            "Please use tf.one_hot on tensors.\n",
            "Extracting drive/Autoencoders on MNIST dataset/t10k-images-idx3-ubyte.gz\n",
            "Extracting drive/Autoencoders on MNIST dataset/t10k-labels-idx1-ubyte.gz\n",
            "WARNING:tensorflow:From /usr/local/lib/python3.6/dist-packages/tensorflow/contrib/learn/python/learn/datasets/mnist.py:290: DataSet.__init__ (from tensorflow.contrib.learn.python.learn.datasets.mnist) is deprecated and will be removed in a future version.\n",
            "Instructions for updating:\n",
            "Please use alternatives such as official/mnist/dataset.py from tensorflow/models.\n"
          ],
          "name": "stdout"
        }
      ]
    },
    {
      "metadata": {
        "id": "2zN7KIe_SBGq",
        "colab_type": "code",
        "colab": {
          "base_uri": "https://localhost:8080/",
          "height": 133
        },
        "outputId": "03cacb80-1bf3-4f63-ec9d-0a014a819802"
      },
      "cell_type": "code",
      "source": [
        "os.chdir('/content')\n",
        "!git clone https://github.com/mixuala/colab_utils\n",
        "import colab_utils.tboard\n",
        "ROOT = %pwd\n",
        "print(ROOT)\n",
        "LOG_DIR = os.path.join(ROOT, 'gaurav')\n",
        "print(LOG_DIR)\n",
        "colab_utils.tboard.launch_tensorboard( bin_dir=ROOT, log_dir=LOG_DIR )"
      ],
      "execution_count": 4,
      "outputs": [
        {
          "output_type": "stream",
          "text": [
            "fatal: destination path 'colab_utils' already exists and is not an empty directory.\r\n",
            "/content\n",
            "/content/gaurav\n",
            "ngrok installed\n",
            "status: tensorboard=True, ngrok=True\n",
            "tensorboard url= https://e27b64b4.ngrok.io\n"
          ],
          "name": "stdout"
        },
        {
          "output_type": "execute_result",
          "data": {
            "text/plain": [
              "'https://e27b64b4.ngrok.io'"
            ]
          },
          "metadata": {
            "tags": []
          },
          "execution_count": 4
        }
      ]
    },
    {
      "metadata": {
        "id": "wY3G4iFiSFSS",
        "colab_type": "code",
        "colab": {}
      },
      "cell_type": "code",
      "source": [
        "batch_size = 128\n",
        "hm_epochs = 10\n",
        "x = tf.placeholder(dtype = tf.float32, shape = [None, 784], name = 'input_lable')\n",
        "learning_rate = tf.placeholder('float')"
      ],
      "execution_count": 0,
      "outputs": []
    },
    {
      "metadata": {
        "id": "m56ZkgEUTeVG",
        "colab_type": "code",
        "colab": {}
      },
      "cell_type": "code",
      "source": [
        "def encoder(x):\n",
        "  with tf.name_scope('encoder_network'):\n",
        "    a1 = tf.layers.dense(x, 32, activation = tf.nn.relu)   #can also use tf.nn.sigmoid\n",
        "    return a1   "
      ],
      "execution_count": 0,
      "outputs": []
    },
    {
      "metadata": {
        "id": "A0tS8BUQT0Y-",
        "colab_type": "code",
        "colab": {}
      },
      "cell_type": "code",
      "source": [
        "def decoder(encoder_output):\n",
        "  with tf.name_scope('decoder_network'):\n",
        "    z1 = tf.layers.dense(encoder_output, 784, activation = tf.nn.sigmoid)\n",
        "    return z1"
      ],
      "execution_count": 0,
      "outputs": []
    },
    {
      "metadata": {
        "id": "mhpHsuy2UL_c",
        "colab_type": "code",
        "colab": {}
      },
      "cell_type": "code",
      "source": [
        "encoder_output = encoder(x)\n",
        "prediction = decoder(encoder_output)\n",
        "\n",
        "with tf.name_scope('cost'):\n",
        "  cost = tf.reduce_mean(tf.pow(prediction-x, 2))\n",
        "summary = tf.summary.scalar('total_cost_of_batch', cost)\n",
        "\n",
        "with tf.name_scope('optimizer'):\n",
        "  optimizer = tf.train.AdamOptimizer(learning_rate).minimize(cost)\n",
        "\n",
        "merged = tf.summary.merge_all()"
      ],
      "execution_count": 0,
      "outputs": []
    },
    {
      "metadata": {
        "id": "fN_i9aKOUvna",
        "colab_type": "code",
        "colab": {}
      },
      "cell_type": "code",
      "source": [
        "sess = tf.Session()\n",
        "sess.run(tf.global_variables_initializer())\n",
        "train_writer = tf.summary.FileWriter('./gaurav',sess.graph)\n",
        "k = 0"
      ],
      "execution_count": 0,
      "outputs": []
    },
    {
      "metadata": {
        "id": "rM4jM3LOV2Dt",
        "colab_type": "code",
        "colab": {
          "base_uri": "https://localhost:8080/",
          "height": 851
        },
        "outputId": "52bebcc4-0311-4e50-ed39-ccb60c0f0d92"
      },
      "cell_type": "code",
      "source": [
        "batch_size = 128\n",
        "for i in range(50):\n",
        "  epoch_loss = 0\n",
        "  for j in range(int(mnist.train.num_examples/batch_size)):\n",
        "    epoch_x, epoch_y = mnist.train.next_batch(batch_size)\n",
        "    epoch_x = epoch_x.reshape((-1, 784))\n",
        "    o, c, m = sess.run([optimizer, cost, merged], feed_dict = {x : epoch_x, learning_rate : .01})\n",
        "    epoch_loss += c\n",
        "    train_writer.add_summary(m, k)\n",
        "    k += 1\n",
        "  print('epoch' , i, 'completed out of ', hm_epochs, 'loss ', epoch_loss)"
      ],
      "execution_count": 37,
      "outputs": [
        {
          "output_type": "stream",
          "text": [
            "epoch 0 completed out of  10 loss  15.440596355125308\n",
            "epoch 1 completed out of  10 loss  9.384962925687432\n",
            "epoch 2 completed out of  10 loss  8.592185018584132\n",
            "epoch 3 completed out of  10 loss  8.260806323960423\n",
            "epoch 4 completed out of  10 loss  8.074451988562942\n",
            "epoch 5 completed out of  10 loss  7.993576880544424\n",
            "epoch 6 completed out of  10 loss  7.910803809762001\n",
            "epoch 7 completed out of  10 loss  7.833170312456787\n",
            "epoch 8 completed out of  10 loss  7.796313501894474\n",
            "epoch 9 completed out of  10 loss  7.737733127549291\n",
            "epoch 10 completed out of  10 loss  7.737962490878999\n",
            "epoch 11 completed out of  10 loss  7.67079905141145\n",
            "epoch 12 completed out of  10 loss  7.720523709431291\n",
            "epoch 13 completed out of  10 loss  7.6514463340863585\n",
            "epoch 14 completed out of  10 loss  7.663576293736696\n",
            "epoch 15 completed out of  10 loss  7.607575273141265\n",
            "epoch 16 completed out of  10 loss  7.60692953504622\n",
            "epoch 17 completed out of  10 loss  7.608260669745505\n",
            "epoch 18 completed out of  10 loss  7.57639135979116\n",
            "epoch 19 completed out of  10 loss  7.557889270596206\n",
            "epoch 20 completed out of  10 loss  7.608579940162599\n",
            "epoch 21 completed out of  10 loss  7.534845071844757\n",
            "epoch 22 completed out of  10 loss  7.539714114740491\n",
            "epoch 23 completed out of  10 loss  7.543428853154182\n",
            "epoch 24 completed out of  10 loss  7.519140149466693\n",
            "epoch 25 completed out of  10 loss  7.51746728271246\n",
            "epoch 26 completed out of  10 loss  7.53450982272625\n",
            "epoch 27 completed out of  10 loss  7.509123714640737\n",
            "epoch 28 completed out of  10 loss  7.513937907293439\n",
            "epoch 29 completed out of  10 loss  7.49557778891176\n",
            "epoch 30 completed out of  10 loss  7.486532224342227\n",
            "epoch 31 completed out of  10 loss  7.499229888431728\n",
            "epoch 32 completed out of  10 loss  7.4892788380384445\n",
            "epoch 33 completed out of  10 loss  7.4770686170086265\n",
            "epoch 34 completed out of  10 loss  7.5066703567281365\n",
            "epoch 35 completed out of  10 loss  7.469620301388204\n",
            "epoch 36 completed out of  10 loss  7.484951284714043\n",
            "epoch 37 completed out of  10 loss  7.473746501840651\n",
            "epoch 38 completed out of  10 loss  7.462661189958453\n",
            "epoch 39 completed out of  10 loss  7.498508858494461\n",
            "epoch 40 completed out of  10 loss  7.454233762808144\n",
            "epoch 41 completed out of  10 loss  7.449400831013918\n",
            "epoch 42 completed out of  10 loss  7.47593332733959\n",
            "epoch 43 completed out of  10 loss  7.447120531462133\n",
            "epoch 44 completed out of  10 loss  7.463312929496169\n",
            "epoch 45 completed out of  10 loss  7.462079261429608\n",
            "epoch 46 completed out of  10 loss  7.438211092725396\n",
            "epoch 47 completed out of  10 loss  7.450641877017915\n",
            "epoch 48 completed out of  10 loss  7.446434669196606\n",
            "epoch 49 completed out of  10 loss  7.436319213360548\n"
          ],
          "name": "stdout"
        }
      ]
    },
    {
      "metadata": {
        "id": "aqX2U_m5V_CF",
        "colab_type": "code",
        "colab": {}
      },
      "cell_type": "code",
      "source": [
        "x_test = mnist.test.images\n",
        "decoded_imgs = sess.run(prediction, feed_dict = {x : x_test})"
      ],
      "execution_count": 0,
      "outputs": []
    },
    {
      "metadata": {
        "id": "hPC-nbFaXy1X",
        "colab_type": "code",
        "colab": {
          "base_uri": "https://localhost:8080/",
          "height": 213
        },
        "outputId": "3780fa82-8763-443a-bcde-38ceea5681a4"
      },
      "cell_type": "code",
      "source": [
        "import matplotlib.pyplot as plt\n",
        "n = 20\n",
        "for i in range(n):\n",
        "    # display original\n",
        "    ax = plt.subplot(2, n, i + 1)\n",
        "    plt.imshow(x_test[i].reshape(28, 28))\n",
        "    plt.gray()\n",
        "    ax.get_xaxis().set_visible(False)\n",
        "    ax.get_yaxis().set_visible(False)\n",
        "\n",
        "    # display reconstruction\n",
        "    ax = plt.subplot(2, n, i + 1 + n)\n",
        "    plt.imshow(decoded_imgs[i].reshape(28, 28))\n",
        "    plt.gray()\n",
        "    ax.get_xaxis().set_visible(False)\n",
        "    ax.get_yaxis().set_visible(False)\n",
        "plt.show()"
      ],
      "execution_count": 39,
      "outputs": [
        {
          "output_type": "display_data",
          "data": {
            "image/png": "[encoded data removed]",
            "text/plain": [
              "<matplotlib.figure.Figure at 0x7f65377ee0b8>"
            ]
          },
          "metadata": {
            "tags": []
          }
        }
      ]
    },
    {
      "metadata": {
        "id": "Q2yQKOhnYJkJ",
        "colab_type": "code",
        "colab": {
          "base_uri": "https://localhost:8080/",
          "height": 363
        },
        "outputId": "54ee1fee-5ef1-456b-e963-c206c49a69a0"
      },
      "cell_type": "code",
      "source": [
        "plt.imshow(decoded_imgs[2].reshape(28, 28))"
      ],
      "execution_count": 40,
      "outputs": [
        {
          "output_type": "execute_result",
          "data": {
            "text/plain": [
              "<matplotlib.image.AxesImage at 0x7f6546bb40f0>"
            ]
          },
          "metadata": {
            "tags": []
          },
          "execution_count": 40
        },
        {
          "output_type": "display_data",
          "data": {
            "image/png": "[encoded data removed]",
            "text/plain": [
              "<matplotlib.figure.Figure at 0x7f65377ee940>"
            ]
          },
          "metadata": {
            "tags": []
          }
        }
      ]
    },
    {
      "metadata": {
        "id": "xiG9whIt86__",
        "colab_type": "text"
      },
      "cell_type": "markdown",
      "source": [
        "**using two fully connected layers**"
      ]
    },
    {
      "metadata": {
        "id": "2UuY7_nD81hg",
        "colab_type": "code",
        "colab": {
          "base_uri": "https://localhost:8080/",
          "height": 5645
        },
        "outputId": "17eb8a73-6844-4ba5-eca6-9a2e46bab995"
      },
      "cell_type": "code",
      "source": [
        "from __future__ import division, print_function, absolute_import\n",
        "\n",
        "import tensorflow as tf\n",
        "import numpy as np\n",
        "import matplotlib.pyplot as plt\n",
        "\n",
        "# Import MNIST data\n",
        "from tensorflow.examples.tutorials.mnist import input_data\n",
        "mnist = input_data.read_data_sets(\"/tmp/data/\", one_hot=True)\n",
        "\n",
        "# Training Parameters\n",
        "learning_rate = 0.01\n",
        "num_steps = 300000\n",
        "batch_size = 256\n",
        "\n",
        "display_step = 1000\n",
        "examples_to_show = 10\n",
        "\n",
        "# Network Parameters\n",
        "num_hidden_1 = 256 # 1st layer num features\n",
        "num_hidden_2 = 128 # 2nd layer num features (the latent dim)\n",
        "num_input = 784 # MNIST data input (img shape: 28*28)\n",
        "\n",
        "# tf Graph input (only pictures)\n",
        "X = tf.placeholder(\"float\", [None, num_input])\n",
        "\n",
        "weights = {\n",
        "    'encoder_h1': tf.Variable(tf.random_normal([num_input, num_hidden_1])),\n",
        "    'encoder_h2': tf.Variable(tf.random_normal([num_hidden_1, num_hidden_2])),\n",
        "    'decoder_h1': tf.Variable(tf.random_normal([num_hidden_2, num_hidden_1])),\n",
        "    'decoder_h2': tf.Variable(tf.random_normal([num_hidden_1, num_input])),\n",
        "}\n",
        "biases = {\n",
        "    'encoder_b1': tf.Variable(tf.random_normal([num_hidden_1])),\n",
        "    'encoder_b2': tf.Variable(tf.random_normal([num_hidden_2])),\n",
        "    'decoder_b1': tf.Variable(tf.random_normal([num_hidden_1])),\n",
        "    'decoder_b2': tf.Variable(tf.random_normal([num_input])),\n",
        "}\n",
        "\n",
        "# Building the encoder\n",
        "def encoder(x):\n",
        "    # Encoder Hidden layer with sigmoid activation #1\n",
        "    layer_1 = tf.nn.sigmoid(tf.add(tf.matmul(x, weights['encoder_h1']),\n",
        "                                   biases['encoder_b1']))\n",
        "    # Encoder Hidden layer with sigmoid activation #2\n",
        "    layer_2 = tf.nn.sigmoid(tf.add(tf.matmul(layer_1, weights['encoder_h2']),\n",
        "                                   biases['encoder_b2']))\n",
        "    return layer_2\n",
        "\n",
        "\n",
        "# Building the decoder\n",
        "def decoder(x):\n",
        "    # Decoder Hidden layer with sigmoid activation #1\n",
        "    layer_1 = tf.nn.sigmoid(tf.add(tf.matmul(x, weights['decoder_h1']),\n",
        "                                   biases['decoder_b1']))\n",
        "    # Decoder Hidden layer with sigmoid activation #2\n",
        "    layer_2 = tf.nn.sigmoid(tf.add(tf.matmul(layer_1, weights['decoder_h2']),\n",
        "                                   biases['decoder_b2']))\n",
        "    return layer_2\n",
        "\n",
        "# Construct model\n",
        "encoder_op = encoder(X)\n",
        "decoder_op = decoder(encoder_op)\n",
        "\n",
        "# Prediction\n",
        "y_pred = decoder_op\n",
        "# Targets (Labels) are the input data.\n",
        "y_true = X\n",
        "\n",
        "# Define loss and optimizer, minimize the squared error\n",
        "loss = tf.reduce_mean(tf.pow(y_true - y_pred, 2))\n",
        "optimizer = tf.train.RMSPropOptimizer(learning_rate).minimize(loss)\n",
        "\n",
        "# Initialize the variables (i.e. assign their default value)\n",
        "init = tf.global_variables_initializer()\n",
        "\n",
        "# Start Training\n",
        "# Start a new TF session\n",
        "with tf.Session() as sess:\n",
        "\n",
        "    # Run the initializer\n",
        "    sess.run(init)\n",
        "\n",
        "    # Training\n",
        "    for i in range(1, num_steps+1):\n",
        "        # Prepare Data\n",
        "        # Get the next batch of MNIST data (only images are needed, not labels)\n",
        "        batch_x, _ = mnist.train.next_batch(batch_size)\n",
        "\n",
        "        # Run optimization op (backprop) and cost op (to get loss value)\n",
        "        _, l = sess.run([optimizer, loss], feed_dict={X: batch_x})\n",
        "        # Display logs per step\n",
        "        if i % display_step == 0 or i == 1:\n",
        "            print('Step %i: Minibatch Loss: %f' % (i, l))\n",
        "\n",
        "    # Testing\n",
        "    # Encode and decode images from test set and visualize their reconstruction.\n",
        "    n = 4\n",
        "    canvas_orig = np.empty((28 * n, 28 * n))\n",
        "    canvas_recon = np.empty((28 * n, 28 * n))\n",
        "    for i in range(n):\n",
        "        # MNIST test set\n",
        "        batch_x, _ = mnist.test.next_batch(n)\n",
        "        # Encode and decode the digit image\n",
        "        g = sess.run(decoder_op, feed_dict={X: batch_x})\n",
        "\n",
        "        # Display original images\n",
        "        for j in range(n):\n",
        "            # Draw the original digits\n",
        "            canvas_orig[i * 28:(i + 1) * 28, j * 28:(j + 1) * 28] = \\\n",
        "                batch_x[j].reshape([28, 28])\n",
        "        # Display reconstructed images\n",
        "        for j in range(n):\n",
        "            # Draw the reconstructed digits\n",
        "            canvas_recon[i * 28:(i + 1) * 28, j * 28:(j + 1) * 28] = \\\n",
        "                g[j].reshape([28, 28])\n",
        "\n",
        "    print(\"Original Images\")\n",
        "    plt.figure(figsize=(n, n))\n",
        "    plt.imshow(canvas_orig, origin=\"upper\", cmap=\"gray\")\n",
        "    plt.show()\n",
        "\n",
        "    print(\"Reconstructed Images\")\n",
        "    plt.figure(figsize=(n, n))\n",
        "    plt.imshow(canvas_recon, origin=\"upper\", cmap=\"gray\")\n",
        "    plt.show()"
      ],
      "execution_count": 0,
      "outputs": [
        {
          "output_type": "stream",
          "text": [
            "Extracting /tmp/data/train-images-idx3-ubyte.gz\n",
            "Extracting /tmp/data/train-labels-idx1-ubyte.gz\n",
            "Extracting /tmp/data/t10k-images-idx3-ubyte.gz\n",
            "Extracting /tmp/data/t10k-labels-idx1-ubyte.gz\n",
            "Step 1: Minibatch Loss: 0.440772\n",
            "Step 1000: Minibatch Loss: 0.137554\n",
            "Step 2000: Minibatch Loss: 0.129695\n",
            "Step 3000: Minibatch Loss: 0.118785\n",
            "Step 4000: Minibatch Loss: 0.113224\n",
            "Step 5000: Minibatch Loss: 0.105161\n",
            "Step 6000: Minibatch Loss: 0.102819\n",
            "Step 7000: Minibatch Loss: 0.096309\n",
            "Step 8000: Minibatch Loss: 0.093118\n",
            "Step 9000: Minibatch Loss: 0.088559\n",
            "Step 10000: Minibatch Loss: 0.085313\n",
            "Step 11000: Minibatch Loss: 0.083156\n",
            "Step 12000: Minibatch Loss: 0.085475\n",
            "Step 13000: Minibatch Loss: 0.079599\n",
            "Step 14000: Minibatch Loss: 0.077255\n",
            "Step 15000: Minibatch Loss: 0.076990\n",
            "Step 16000: Minibatch Loss: 0.075890\n",
            "Step 17000: Minibatch Loss: 0.071552\n",
            "Step 18000: Minibatch Loss: 0.071367\n",
            "Step 19000: Minibatch Loss: 0.070421\n",
            "Step 20000: Minibatch Loss: 0.070033\n",
            "Step 21000: Minibatch Loss: 0.070113\n",
            "Step 22000: Minibatch Loss: 0.070412\n",
            "Step 23000: Minibatch Loss: 0.068477\n",
            "Step 24000: Minibatch Loss: 0.067904\n",
            "Step 25000: Minibatch Loss: 0.066192\n",
            "Step 26000: Minibatch Loss: 0.063009\n",
            "Step 27000: Minibatch Loss: 0.062749\n",
            "Step 28000: Minibatch Loss: 0.062212\n",
            "Step 29000: Minibatch Loss: 0.061718\n",
            "Step 30000: Minibatch Loss: 0.058290\n",
            "Step 31000: Minibatch Loss: 0.058675\n",
            "Step 32000: Minibatch Loss: 0.055950\n",
            "Step 33000: Minibatch Loss: 0.058549\n",
            "Step 34000: Minibatch Loss: 0.059242\n",
            "Step 35000: Minibatch Loss: 0.057043\n",
            "Step 36000: Minibatch Loss: 0.057119\n",
            "Step 37000: Minibatch Loss: 0.056007\n",
            "Step 38000: Minibatch Loss: 0.053255\n",
            "Step 39000: Minibatch Loss: 0.052608\n",
            "Step 40000: Minibatch Loss: 0.051753\n",
            "Step 41000: Minibatch Loss: 0.050128\n",
            "Step 42000: Minibatch Loss: 0.050519\n",
            "Step 43000: Minibatch Loss: 0.049757\n",
            "Step 44000: Minibatch Loss: 0.047964\n",
            "Step 45000: Minibatch Loss: 0.049871\n",
            "Step 46000: Minibatch Loss: 0.048769\n",
            "Step 47000: Minibatch Loss: 0.047857\n",
            "Step 48000: Minibatch Loss: 0.045667\n",
            "Step 49000: Minibatch Loss: 0.045027\n",
            "Step 50000: Minibatch Loss: 0.046960\n",
            "Step 51000: Minibatch Loss: 0.044498\n",
            "Step 52000: Minibatch Loss: 0.043304\n",
            "Step 53000: Minibatch Loss: 0.044849\n",
            "Step 54000: Minibatch Loss: 0.042778\n",
            "Step 55000: Minibatch Loss: 0.041462\n",
            "Step 56000: Minibatch Loss: 0.041361\n",
            "Step 57000: Minibatch Loss: 0.042546\n",
            "Step 58000: Minibatch Loss: 0.040601\n",
            "Step 59000: Minibatch Loss: 0.038971\n",
            "Step 60000: Minibatch Loss: 0.036914\n",
            "Step 61000: Minibatch Loss: 0.037955\n",
            "Step 62000: Minibatch Loss: 0.038231\n",
            "Step 63000: Minibatch Loss: 0.037141\n",
            "Step 64000: Minibatch Loss: 0.038110\n",
            "Step 65000: Minibatch Loss: 0.035688\n",
            "Step 66000: Minibatch Loss: 0.035779\n",
            "Step 67000: Minibatch Loss: 0.035679\n"
          ],
          "name": "stdout"
        },
        {
          "output_type": "stream",
          "text": [
            "Step 68000: Minibatch Loss: 0.032004\n",
            "Step 69000: Minibatch Loss: 0.032821\n",
            "Step 70000: Minibatch Loss: 0.032185\n",
            "Step 71000: Minibatch Loss: 0.033491\n",
            "Step 72000: Minibatch Loss: 0.031440\n",
            "Step 73000: Minibatch Loss: 0.032686\n",
            "Step 74000: Minibatch Loss: 0.031830\n",
            "Step 75000: Minibatch Loss: 0.030751\n",
            "Step 76000: Minibatch Loss: 0.031578\n",
            "Step 77000: Minibatch Loss: 0.031089\n",
            "Step 78000: Minibatch Loss: 0.030223\n",
            "Step 79000: Minibatch Loss: 0.032242\n",
            "Step 80000: Minibatch Loss: 0.031171\n",
            "Step 81000: Minibatch Loss: 0.030602\n",
            "Step 82000: Minibatch Loss: 0.030393\n",
            "Step 83000: Minibatch Loss: 0.030513\n",
            "Step 84000: Minibatch Loss: 0.029761\n",
            "Step 85000: Minibatch Loss: 0.028192\n",
            "Step 86000: Minibatch Loss: 0.028253\n",
            "Step 87000: Minibatch Loss: 0.026582\n",
            "Step 88000: Minibatch Loss: 0.026096\n",
            "Step 89000: Minibatch Loss: 0.026411\n",
            "Step 90000: Minibatch Loss: 0.026811\n",
            "Step 91000: Minibatch Loss: 0.026457\n",
            "Step 92000: Minibatch Loss: 0.025555\n",
            "Step 93000: Minibatch Loss: 0.027145\n",
            "Step 94000: Minibatch Loss: 0.026224\n",
            "Step 95000: Minibatch Loss: 0.025289\n",
            "Step 96000: Minibatch Loss: 0.026829\n",
            "Step 97000: Minibatch Loss: 0.027357\n",
            "Step 98000: Minibatch Loss: 0.025291\n",
            "Step 99000: Minibatch Loss: 0.025653\n",
            "Step 100000: Minibatch Loss: 0.024955\n",
            "Step 101000: Minibatch Loss: 0.025748\n",
            "Step 102000: Minibatch Loss: 0.024796\n",
            "Step 103000: Minibatch Loss: 0.024829\n",
            "Step 104000: Minibatch Loss: 0.024199\n",
            "Step 105000: Minibatch Loss: 0.024361\n",
            "Step 106000: Minibatch Loss: 0.023489\n",
            "Step 107000: Minibatch Loss: 0.024081\n",
            "Step 108000: Minibatch Loss: 0.022440\n",
            "Step 109000: Minibatch Loss: 0.021728\n",
            "Step 110000: Minibatch Loss: 0.022021\n",
            "Step 111000: Minibatch Loss: 0.020772\n",
            "Step 112000: Minibatch Loss: 0.020680\n",
            "Step 113000: Minibatch Loss: 0.020682\n",
            "Step 114000: Minibatch Loss: 0.020248\n",
            "Step 115000: Minibatch Loss: 0.021260\n",
            "Step 116000: Minibatch Loss: 0.020940\n",
            "Step 117000: Minibatch Loss: 0.020953\n",
            "Step 118000: Minibatch Loss: 0.019593\n",
            "Step 119000: Minibatch Loss: 0.020522\n",
            "Step 120000: Minibatch Loss: 0.019548\n",
            "Step 121000: Minibatch Loss: 0.019478\n",
            "Step 122000: Minibatch Loss: 0.020931\n",
            "Step 123000: Minibatch Loss: 0.020099\n",
            "Step 124000: Minibatch Loss: 0.020621\n",
            "Step 125000: Minibatch Loss: 0.020051\n",
            "Step 126000: Minibatch Loss: 0.019798\n",
            "Step 127000: Minibatch Loss: 0.020334\n",
            "Step 128000: Minibatch Loss: 0.019469\n",
            "Step 129000: Minibatch Loss: 0.019333\n",
            "Step 130000: Minibatch Loss: 0.019842\n",
            "Step 131000: Minibatch Loss: 0.019424\n",
            "Step 132000: Minibatch Loss: 0.019577\n",
            "Step 133000: Minibatch Loss: 0.019904\n",
            "Step 134000: Minibatch Loss: 0.019361\n",
            "Step 135000: Minibatch Loss: 0.019831\n",
            "Step 136000: Minibatch Loss: 0.019559\n",
            "Step 137000: Minibatch Loss: 0.019912\n",
            "Step 138000: Minibatch Loss: 0.018001\n",
            "Step 139000: Minibatch Loss: 0.019298\n"
          ],
          "name": "stdout"
        },
        {
          "output_type": "stream",
          "text": [
            "Step 140000: Minibatch Loss: 0.017243\n",
            "Step 141000: Minibatch Loss: 0.018178\n",
            "Step 142000: Minibatch Loss: 0.018450\n",
            "Step 143000: Minibatch Loss: 0.018675\n",
            "Step 144000: Minibatch Loss: 0.018545\n",
            "Step 145000: Minibatch Loss: 0.017065\n",
            "Step 146000: Minibatch Loss: 0.018012\n",
            "Step 147000: Minibatch Loss: 0.017183\n",
            "Step 148000: Minibatch Loss: 0.017753\n",
            "Step 149000: Minibatch Loss: 0.018422\n",
            "Step 150000: Minibatch Loss: 0.016773\n",
            "Step 151000: Minibatch Loss: 0.016866\n",
            "Step 152000: Minibatch Loss: 0.017296\n",
            "Step 153000: Minibatch Loss: 0.016617\n",
            "Step 154000: Minibatch Loss: 0.016686\n",
            "Step 155000: Minibatch Loss: 0.017610\n",
            "Step 156000: Minibatch Loss: 0.017417\n",
            "Step 157000: Minibatch Loss: 0.017089\n",
            "Step 158000: Minibatch Loss: 0.016543\n",
            "Step 159000: Minibatch Loss: 0.017156\n",
            "Step 160000: Minibatch Loss: 0.017671\n",
            "Step 161000: Minibatch Loss: 0.016445\n",
            "Step 162000: Minibatch Loss: 0.016235\n",
            "Step 163000: Minibatch Loss: 0.016163\n",
            "Step 164000: Minibatch Loss: 0.014958\n",
            "Step 165000: Minibatch Loss: 0.017010\n",
            "Step 166000: Minibatch Loss: 0.016456\n",
            "Step 167000: Minibatch Loss: 0.014765\n",
            "Step 168000: Minibatch Loss: 0.015531\n",
            "Step 169000: Minibatch Loss: 0.015430\n",
            "Step 170000: Minibatch Loss: 0.016331\n",
            "Step 171000: Minibatch Loss: 0.015525\n",
            "Step 172000: Minibatch Loss: 0.015058\n",
            "Step 173000: Minibatch Loss: 0.013922\n",
            "Step 174000: Minibatch Loss: 0.014995\n",
            "Step 175000: Minibatch Loss: 0.014794\n",
            "Step 176000: Minibatch Loss: 0.014768\n",
            "Step 177000: Minibatch Loss: 0.014648\n",
            "Step 178000: Minibatch Loss: 0.015320\n",
            "Step 179000: Minibatch Loss: 0.015471\n",
            "Step 180000: Minibatch Loss: 0.014819\n",
            "Step 181000: Minibatch Loss: 0.014826\n",
            "Step 182000: Minibatch Loss: 0.013985\n",
            "Step 183000: Minibatch Loss: 0.015687\n",
            "Step 184000: Minibatch Loss: 0.014390\n",
            "Step 185000: Minibatch Loss: 0.014322\n",
            "Step 186000: Minibatch Loss: 0.015131\n",
            "Step 187000: Minibatch Loss: 0.014536\n",
            "Step 188000: Minibatch Loss: 0.015115\n",
            "Step 189000: Minibatch Loss: 0.014562\n",
            "Step 190000: Minibatch Loss: 0.014881\n",
            "Step 191000: Minibatch Loss: 0.014708\n",
            "Step 192000: Minibatch Loss: 0.014444\n",
            "Step 193000: Minibatch Loss: 0.014547\n",
            "Step 194000: Minibatch Loss: 0.014356\n",
            "Step 195000: Minibatch Loss: 0.015306\n",
            "Step 196000: Minibatch Loss: 0.014460\n",
            "Step 197000: Minibatch Loss: 0.013846\n",
            "Step 198000: Minibatch Loss: 0.013356\n",
            "Step 199000: Minibatch Loss: 0.014273\n",
            "Step 200000: Minibatch Loss: 0.014081\n",
            "Step 201000: Minibatch Loss: 0.015372\n",
            "Step 202000: Minibatch Loss: 0.013700\n",
            "Step 203000: Minibatch Loss: 0.014461\n",
            "Step 204000: Minibatch Loss: 0.015565\n",
            "Step 205000: Minibatch Loss: 0.014561\n",
            "Step 206000: Minibatch Loss: 0.014234\n",
            "Step 207000: Minibatch Loss: 0.013441\n",
            "Step 208000: Minibatch Loss: 0.013478\n",
            "Step 209000: Minibatch Loss: 0.013929\n",
            "Step 210000: Minibatch Loss: 0.014380\n",
            "Step 211000: Minibatch Loss: 0.014210\n"
          ],
          "name": "stdout"
        },
        {
          "output_type": "stream",
          "text": [
            "Step 212000: Minibatch Loss: 0.013612\n",
            "Step 213000: Minibatch Loss: 0.013465\n",
            "Step 214000: Minibatch Loss: 0.013871\n",
            "Step 215000: Minibatch Loss: 0.013244\n",
            "Step 216000: Minibatch Loss: 0.013389\n",
            "Step 217000: Minibatch Loss: 0.013032\n",
            "Step 218000: Minibatch Loss: 0.013698\n",
            "Step 219000: Minibatch Loss: 0.012854\n",
            "Step 220000: Minibatch Loss: 0.013855\n",
            "Step 221000: Minibatch Loss: 0.013671\n",
            "Step 222000: Minibatch Loss: 0.014792\n",
            "Step 223000: Minibatch Loss: 0.014085\n",
            "Step 224000: Minibatch Loss: 0.013724\n",
            "Step 225000: Minibatch Loss: 0.013682\n",
            "Step 226000: Minibatch Loss: 0.012652\n",
            "Step 227000: Minibatch Loss: 0.013886\n",
            "Step 228000: Minibatch Loss: 0.012425\n",
            "Step 229000: Minibatch Loss: 0.013183\n",
            "Step 230000: Minibatch Loss: 0.011960\n",
            "Step 231000: Minibatch Loss: 0.012332\n",
            "Step 232000: Minibatch Loss: 0.011478\n",
            "Step 233000: Minibatch Loss: 0.011584\n",
            "Step 234000: Minibatch Loss: 0.012105\n",
            "Step 235000: Minibatch Loss: 0.012183\n",
            "Step 236000: Minibatch Loss: 0.012989\n",
            "Step 237000: Minibatch Loss: 0.012430\n",
            "Step 238000: Minibatch Loss: 0.011722\n",
            "Step 239000: Minibatch Loss: 0.011839\n",
            "Step 240000: Minibatch Loss: 0.012675\n",
            "Step 241000: Minibatch Loss: 0.012656\n",
            "Step 242000: Minibatch Loss: 0.012064\n",
            "Step 243000: Minibatch Loss: 0.011774\n",
            "Step 244000: Minibatch Loss: 0.012061\n",
            "Step 245000: Minibatch Loss: 0.012463\n",
            "Step 246000: Minibatch Loss: 0.011625\n",
            "Step 247000: Minibatch Loss: 0.011914\n",
            "Step 248000: Minibatch Loss: 0.012365\n",
            "Step 249000: Minibatch Loss: 0.012141\n",
            "Step 250000: Minibatch Loss: 0.011459\n",
            "Step 251000: Minibatch Loss: 0.011842\n",
            "Step 252000: Minibatch Loss: 0.012185\n",
            "Step 253000: Minibatch Loss: 0.011827\n",
            "Step 254000: Minibatch Loss: 0.013050\n",
            "Step 255000: Minibatch Loss: 0.011737\n",
            "Step 256000: Minibatch Loss: 0.012363\n",
            "Step 257000: Minibatch Loss: 0.011706\n",
            "Step 258000: Minibatch Loss: 0.011861\n",
            "Step 259000: Minibatch Loss: 0.012265\n",
            "Step 260000: Minibatch Loss: 0.011981\n",
            "Step 261000: Minibatch Loss: 0.011308\n",
            "Step 262000: Minibatch Loss: 0.011510\n",
            "Step 263000: Minibatch Loss: 0.011447\n",
            "Step 264000: Minibatch Loss: 0.012961\n",
            "Step 265000: Minibatch Loss: 0.011205\n",
            "Step 266000: Minibatch Loss: 0.010871\n",
            "Step 267000: Minibatch Loss: 0.011388\n",
            "Step 268000: Minibatch Loss: 0.011678\n",
            "Step 269000: Minibatch Loss: 0.011558\n",
            "Step 270000: Minibatch Loss: 0.011384\n",
            "Step 271000: Minibatch Loss: 0.012441\n",
            "Step 272000: Minibatch Loss: 0.011335\n",
            "Step 273000: Minibatch Loss: 0.011993\n",
            "Step 274000: Minibatch Loss: 0.011674\n",
            "Step 275000: Minibatch Loss: 0.010624\n",
            "Step 276000: Minibatch Loss: 0.011792\n",
            "Step 277000: Minibatch Loss: 0.011577\n",
            "Step 278000: Minibatch Loss: 0.011007\n",
            "Step 279000: Minibatch Loss: 0.010769\n",
            "Step 280000: Minibatch Loss: 0.011716\n",
            "Step 281000: Minibatch Loss: 0.011231\n",
            "Step 282000: Minibatch Loss: 0.011543\n",
            "Step 283000: Minibatch Loss: 0.010503\n"
          ],
          "name": "stdout"
        },
        {
          "output_type": "stream",
          "text": [
            "Step 284000: Minibatch Loss: 0.012414\n",
            "Step 285000: Minibatch Loss: 0.010368\n",
            "Step 286000: Minibatch Loss: 0.010153\n",
            "Step 287000: Minibatch Loss: 0.010080\n",
            "Step 288000: Minibatch Loss: 0.011118\n",
            "Step 289000: Minibatch Loss: 0.011073\n",
            "Step 290000: Minibatch Loss: 0.010884\n",
            "Step 291000: Minibatch Loss: 0.011158\n",
            "Step 292000: Minibatch Loss: 0.011050\n",
            "Step 293000: Minibatch Loss: 0.010273\n",
            "Step 294000: Minibatch Loss: 0.011166\n",
            "Step 295000: Minibatch Loss: 0.011094\n",
            "Step 296000: Minibatch Loss: 0.010558\n",
            "Step 297000: Minibatch Loss: 0.011947\n",
            "Step 298000: Minibatch Loss: 0.010527\n",
            "Step 299000: Minibatch Loss: 0.011251\n",
            "Step 300000: Minibatch Loss: 0.010175\n",
            "Original Images\n"
          ],
          "name": "stdout"
        },
        {
          "output_type": "display_data",
          "data": {
            "image/png": "[encoded data removed]",
            "text/plain": [
              "<matplotlib.figure.Figure at 0x7f1335e3d1d0>"
            ]
          },
          "metadata": {
            "tags": []
          }
        },
        {
          "output_type": "stream",
          "text": [
            "Reconstructed Images\n"
          ],
          "name": "stdout"
        },
        {
          "output_type": "display_data",
          "data": {
            "image/png": "[encoded data removed]",
            "text/plain": [
              "<matplotlib.figure.Figure at 0x7f1335cb77f0>"
            ]
          },
          "metadata": {
            "tags": []
          }
        }
      ]
    },
    {
      "metadata": {
        "id": "lwH4oCJ1rYZK",
        "colab_type": "code",
        "colab": {}
      },
      "cell_type": "code",
      "source": [
        ""
      ],
      "execution_count": 0,
      "outputs": []
    }
  ]
}